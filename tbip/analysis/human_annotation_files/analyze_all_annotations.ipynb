{
 "cells": [
  {
   "cell_type": "code",
   "execution_count": 20,
   "id": "4a5c591b-7e95-4b79-991c-02d85fe112a9",
   "metadata": {},
   "outputs": [],
   "source": [
    "import numpy as np\n",
    "from tqdm import tqdm\n",
    "from scipy.stats import pearsonr, spearmanr\n",
    "import scipy.sparse as sparse\n",
    "from scipy.stats import bernoulli, poisson\n",
    "import analysis_utils_mine as utils\n",
    "\n",
    "import json\n",
    "import pandas as pd\n",
    "import ast\n",
    "from datetime import datetime\n",
    "import torch\n",
    "import pandas as pd\n",
    "from datetime import datetime, timedelta\n",
    "import pickle\n",
    "\n",
    "import matplotlib.pyplot as plt\n",
    "import xlsxwriter\n",
    "from sklearn.metrics import cohen_kappa_score"
   ]
  },
  {
   "cell_type": "code",
   "execution_count": 2,
   "id": "367fc3b5-1254-4fe5-a271-fe1bf3c67722",
   "metadata": {},
   "outputs": [],
   "source": [
    "import os"
   ]
  },
  {
   "cell_type": "code",
   "execution_count": 3,
   "id": "19626f46-f810-4ecf-88f5-5e99db78acf4",
   "metadata": {},
   "outputs": [],
   "source": [
    "def get_dataframe_from_annotated_xlsx_file_path(path):\n",
    "    df = pd.read_excel(path,\n",
    "                       sheet_name=None,\n",
    "                       engine='openpyxl')\n",
    "    df = df['Sheet1']\n",
    "    df = df[~pd.isnull(df['Topic Name'])]\n",
    "    return df"
   ]
  },
  {
   "cell_type": "code",
   "execution_count": 7,
   "id": "4ce17236-234c-42b3-859f-86b410265f43",
   "metadata": {},
   "outputs": [
    {
     "name": "stdout",
     "output_type": "stream",
     "text": [
      "<class 'pandas.core.frame.DataFrame'>\n",
      "Int64Index: 50 entries, 1 to 1569\n",
      "Data columns (total 7 columns):\n",
      " #   Column          Non-Null Count  Dtype  \n",
      "---  ------          --------------  -----  \n",
      " 0   Topic           50 non-null     object \n",
      " 1   Unnamed: 1      0 non-null      float64\n",
      " 2   Coherence       50 non-null     float64\n",
      " 3   Polarization    48 non-null     float64\n",
      " 4   Topic Name      50 non-null     object \n",
      " 5   Description     48 non-null     object \n",
      " 6   Notes/Comments  10 non-null     object \n",
      "dtypes: float64(3), object(4)\n",
      "memory usage: 3.1+ KB\n"
     ]
    }
   ],
   "source": [
    "annotator1_pre_tbip_speeches = get_dataframe_from_annotated_xlsx_file_path('venue_diff_polsci/pre_tbip_annotation_results/annotator_1/topics_for_annotation.xlsx_frazier_speech.xlsx')\n",
    "annotator1_pre_tbip_speeches.info()"
   ]
  },
  {
   "cell_type": "code",
   "execution_count": 37,
   "id": "6524b618-81bb-4f9c-bb9b-723a6d306908",
   "metadata": {},
   "outputs": [
    {
     "name": "stdout",
     "output_type": "stream",
     "text": [
      "<class 'pandas.core.frame.DataFrame'>\n",
      "Int64Index: 50 entries, 1 to 1569\n",
      "Data columns (total 7 columns):\n",
      " #   Column          Non-Null Count  Dtype  \n",
      "---  ------          --------------  -----  \n",
      " 0   Topic           50 non-null     object \n",
      " 1   Unnamed: 1      0 non-null      float64\n",
      " 2   Coherence       50 non-null     float64\n",
      " 3   Polarization    50 non-null     float64\n",
      " 4   Topic Name      50 non-null     object \n",
      " 5   Description     50 non-null     object \n",
      " 6   Notes/Comments  50 non-null     object \n",
      "dtypes: float64(3), object(4)\n",
      "memory usage: 3.1+ KB\n"
     ]
    }
   ],
   "source": [
    "annotator1_pre_tbip_tweets = get_dataframe_from_annotated_xlsx_file_path('venue_diff_polsci/pre_tbip_annotation_results/annotator_1/topics_for_annotation.xlsx_Frazier_tweet.xlsx')\n",
    "annotator1_pre_tbip_tweets.info()"
   ]
  },
  {
   "cell_type": "code",
   "execution_count": 38,
   "id": "cf9e57b8-fc2d-4e44-9acc-3f5c7f6d2123",
   "metadata": {},
   "outputs": [
    {
     "name": "stdout",
     "output_type": "stream",
     "text": [
      "<class 'pandas.core.frame.DataFrame'>\n",
      "Int64Index: 50 entries, 1 to 1569\n",
      "Data columns (total 7 columns):\n",
      " #   Column          Non-Null Count  Dtype  \n",
      "---  ------          --------------  -----  \n",
      " 0   Topic           50 non-null     object \n",
      " 1   Unnamed: 1      0 non-null      float64\n",
      " 2   Coherence       50 non-null     float64\n",
      " 3   Polarization    42 non-null     float64\n",
      " 4   Topic Name      50 non-null     object \n",
      " 5   Description     43 non-null     object \n",
      " 6   Notes/Comments  16 non-null     object \n",
      "dtypes: float64(3), object(4)\n",
      "memory usage: 3.1+ KB\n"
     ]
    }
   ],
   "source": [
    "annotator2_pre_tbip_speeches = get_dataframe_from_annotated_xlsx_file_path('venue_diff_polsci/pre_tbip_annotation_results/annotator_2/topics_for_annotation_Hightower_speech.xlsx')\n",
    "annotator2_pre_tbip_speeches.info()"
   ]
  },
  {
   "cell_type": "code",
   "execution_count": 39,
   "id": "a17d4273-8143-4e2d-b387-5133a0069809",
   "metadata": {},
   "outputs": [
    {
     "name": "stdout",
     "output_type": "stream",
     "text": [
      "<class 'pandas.core.frame.DataFrame'>\n",
      "Int64Index: 50 entries, 1 to 1569\n",
      "Data columns (total 7 columns):\n",
      " #   Column          Non-Null Count  Dtype  \n",
      "---  ------          --------------  -----  \n",
      " 0   Topic           50 non-null     object \n",
      " 1   Unnamed: 1      0 non-null      float64\n",
      " 2   Coherence       50 non-null     float64\n",
      " 3   Polarization    39 non-null     float64\n",
      " 4   Topic Name      50 non-null     object \n",
      " 5   Description     38 non-null     object \n",
      " 6   Notes/Comments  22 non-null     object \n",
      "dtypes: float64(3), object(4)\n",
      "memory usage: 3.1+ KB\n"
     ]
    }
   ],
   "source": [
    "annotator2_pre_tbip_tweets = get_dataframe_from_annotated_xlsx_file_path('venue_diff_polsci/pre_tbip_annotation_results/annotator_2/topics_for_annotation_Hightower_tweets.xlsx')\n",
    "annotator2_pre_tbip_tweets.info()"
   ]
  },
  {
   "cell_type": "code",
   "execution_count": 11,
   "id": "4669012e-5f32-4b28-9a56-641a452e0a0e",
   "metadata": {},
   "outputs": [],
   "source": [
    "discard_labels_to_one_discard_label_map = {'DISCARD': 'DISCARD',\n",
    "                                           'Discard': 'DISCARD',\n",
    "                                           'Disgard': 'DISCARD',\n",
    "                                           'discard': 'DISCARD'}\n",
    "                                           "
   ]
  },
  {
   "attachments": {
    "4141b89e-16d5-492d-a639-a79545d856b6.png": {
     "image/png": "[encoded data removed]"
    },
    "a57cf57f-c0da-4381-9312-368689384f69.png": {
     "image/png": "[encoded data removed]"
    }
   },
   "cell_type": "markdown",
   "id": "9fb8f43b-e365-4661-a7cc-82fa099e97a9",
   "metadata": {},
   "source": [
    "![image.png](attachment:4141b89e-16d5-492d-a639-a79545d856b6.png)![image.png](attachment:a57cf57f-c0da-4381-9312-368689384f69.png)"
   ]
  },
  {
   "cell_type": "markdown",
   "id": "c9901ee0-470f-4567-8b92-c70618d9b247",
   "metadata": {},
   "source": [
    "## Pre-TBIP results"
   ]
  },
  {
   "cell_type": "markdown",
   "id": "14deecfa-3f11-4efe-b8df-99e454002a5b",
   "metadata": {},
   "source": [
    "_Coherence:_ Rate the topic, on a 1-3 scale, on its coherence (1 being not coherent, 3 being very coherent). Does that topic represent an easily identifiable category or a meaningful concept? The top words for the topic, along with the top documents associated with that topic help make this judgment. Broadly, a set of items can be said to be coherent if they enable human recognition of an identifiable category when viewed together. \n",
    "\n",
    "\n",
    "_Polarization_: If the topic is rated above 1 for coherence, rate the topic, on a 1-3 scale (1 being not polarized, 3 being polarized), on the expected polarization of this topic: do you expect meaningful ideological differences in the way liberals and conservatives would talk about the category or concept or issue or the stance they would hold on that issue? The top words for the topic, along with the top documents associated with that topic, as well as your personal knowledge of American politics will help make this judgment. "
   ]
  },
  {
   "cell_type": "markdown",
   "id": "cc51c36b-f2c5-4435-9c3b-9f86a1bec94e",
   "metadata": {},
   "source": [
    "Speeches"
   ]
  },
  {
   "cell_type": "code",
   "execution_count": 12,
   "id": "0672f181-98b6-4660-adbe-f26ed943b3e1",
   "metadata": {},
   "outputs": [
    {
     "data": {
      "text/plain": [
       "{1.0, 2.0, 3.0}"
      ]
     },
     "execution_count": 12,
     "metadata": {},
     "output_type": "execute_result"
    }
   ],
   "source": [
    "set(annotator1_pre_tbip_speeches['Coherence'])"
   ]
  },
  {
   "cell_type": "code",
   "execution_count": 26,
   "id": "61308ce6-f87b-4ec8-9ec0-b79828159016",
   "metadata": {},
   "outputs": [
    {
     "data": {
      "text/plain": [
       "{1.0, 2.0, 3.0}"
      ]
     },
     "execution_count": 26,
     "metadata": {},
     "output_type": "execute_result"
    }
   ],
   "source": [
    "set(annotator2_pre_tbip_speeches['Coherence'])"
   ]
  },
  {
   "cell_type": "code",
   "execution_count": 13,
   "id": "6ce9ee33-d2d6-42c2-aea3-833395c23c2b",
   "metadata": {},
   "outputs": [
    {
     "data": {
      "text/plain": [
       "{nan, 1.0, 3.0, nan}"
      ]
     },
     "execution_count": 13,
     "metadata": {},
     "output_type": "execute_result"
    }
   ],
   "source": [
    "set(annotator1_pre_tbip_speeches['Polarization'])"
   ]
  },
  {
   "cell_type": "code",
   "execution_count": 27,
   "id": "44fa80a2-19ec-4fd6-8755-36d925659706",
   "metadata": {},
   "outputs": [
    {
     "data": {
      "text/plain": [
       "{nan, 1.0, 2.0, 3.0, nan, nan, nan, nan}"
      ]
     },
     "execution_count": 27,
     "metadata": {},
     "output_type": "execute_result"
    }
   ],
   "source": [
    "set(annotator2_pre_tbip_speeches['Polarization'])"
   ]
  },
  {
   "cell_type": "code",
   "execution_count": 40,
   "id": "f7252a4f-c54e-4931-8407-65db9a5ec3c1",
   "metadata": {},
   "outputs": [],
   "source": [
    "def get_stats_col(df, colname):\n",
    "    n = len(df)\n",
    "    l = list(df[colname])\n",
    "    print('% of Topics rated 1 on ' + colname + ' = ' + str(round(100*(l.count(1.0)/n), 2)) + '%')\n",
    "    print('% of Topics rated 2 on ' + colname + ' = ' + str(round(100*(l.count(2.0)/n), 2)) + '%')\n",
    "    print('% of Topics rated 3 on ' + colname + ' = ' + str(round(100*(l.count(3.0)/n), 2)) + '%')"
   ]
  },
  {
   "cell_type": "code",
   "execution_count": 41,
   "id": "22d7a324-95e1-4793-9953-fe4879d03a07",
   "metadata": {},
   "outputs": [
    {
     "name": "stdout",
     "output_type": "stream",
     "text": [
      "Annotator 1 - Speeches\n",
      "% of Topics rated 1 on Coherence = 4.0%\n",
      "% of Topics rated 2 on Coherence = 2.0%\n",
      "% of Topics rated 3 on Coherence = 94.0%\n"
     ]
    }
   ],
   "source": [
    "print('Annotator 1 - Speeches')\n",
    "get_stats_col(annotator1_pre_tbip_speeches, 'Coherence')"
   ]
  },
  {
   "cell_type": "code",
   "execution_count": 42,
   "id": "d43d97df-bce2-4182-b1fe-14929bd419eb",
   "metadata": {},
   "outputs": [
    {
     "name": "stdout",
     "output_type": "stream",
     "text": [
      "Annotator 2 - Speeches\n",
      "% of Topics rated 1 on Coherence = 16.0%\n",
      "% of Topics rated 2 on Coherence = 6.0%\n",
      "% of Topics rated 3 on Coherence = 78.0%\n"
     ]
    }
   ],
   "source": [
    "print('Annotator 2 - Speeches')\n",
    "get_stats_col(annotator2_pre_tbip_speeches, 'Coherence')"
   ]
  },
  {
   "cell_type": "code",
   "execution_count": 47,
   "id": "8bb78c64-47f3-4b41-854a-059dfaed904c",
   "metadata": {},
   "outputs": [
    {
     "data": {
      "text/plain": [
       "0.15123456790123457"
      ]
     },
     "execution_count": 47,
     "metadata": {},
     "output_type": "execute_result"
    }
   ],
   "source": [
    "cohen_kappa_score(list(annotator1_pre_tbip_speeches['Coherence']),\n",
    "                  list(annotator2_pre_tbip_speeches['Coherence']))"
   ]
  },
  {
   "cell_type": "code",
   "execution_count": 44,
   "id": "2012173d-4758-4a67-b357-fc88d26354d3",
   "metadata": {},
   "outputs": [
    {
     "name": "stdout",
     "output_type": "stream",
     "text": [
      "Annotator 1 - Tweets\n",
      "% of Topics rated 1 on Coherence = 0.0%\n",
      "% of Topics rated 2 on Coherence = 2.0%\n",
      "% of Topics rated 3 on Coherence = 98.0%\n"
     ]
    }
   ],
   "source": [
    "print('Annotator 1 - Tweets')\n",
    "get_stats_col(annotator1_pre_tbip_tweets, 'Coherence')"
   ]
  },
  {
   "cell_type": "code",
   "execution_count": 45,
   "id": "a27930b0-37ca-4c2d-bd58-640de32ec6d7",
   "metadata": {},
   "outputs": [
    {
     "name": "stdout",
     "output_type": "stream",
     "text": [
      "Annotator 2 - Tweets\n",
      "% of Topics rated 1 on Coherence = 22.0%\n",
      "% of Topics rated 2 on Coherence = 8.0%\n",
      "% of Topics rated 3 on Coherence = 70.0%\n"
     ]
    }
   ],
   "source": [
    "print('Annotator 2 - Tweets')\n",
    "get_stats_col(annotator2_pre_tbip_tweets, 'Coherence')"
   ]
  },
  {
   "cell_type": "code",
   "execution_count": 46,
   "id": "9de8e248-060c-4d9d-8014-306beb4a98a8",
   "metadata": {},
   "outputs": [
    {
     "data": {
      "text/plain": [
       "0.03969270166453276"
      ]
     },
     "execution_count": 46,
     "metadata": {},
     "output_type": "execute_result"
    }
   ],
   "source": [
    "cohen_kappa_score(list(annotator1_pre_tbip_tweets['Coherence']),\n",
    "                  list(annotator2_pre_tbip_tweets['Coherence']))"
   ]
  },
  {
   "cell_type": "code",
   "execution_count": null,
   "id": "e7278f01-7e5b-446a-b12d-23aacbc7eb00",
   "metadata": {},
   "outputs": [],
   "source": []
  },
  {
   "cell_type": "code",
   "execution_count": 48,
   "id": "fce1c42a-441e-43fb-bd88-78cb21f5f386",
   "metadata": {},
   "outputs": [
    {
     "name": "stdout",
     "output_type": "stream",
     "text": [
      "Annotator 1 - Speeches\n",
      "% of Topics rated 1 on Polarization = 44.0%\n",
      "% of Topics rated 2 on Polarization = 0.0%\n",
      "% of Topics rated 3 on Polarization = 52.0%\n",
      "Annotator 2 - Speeches\n",
      "% of Topics rated 1 on Polarization = 46.0%\n",
      "% of Topics rated 2 on Polarization = 8.0%\n",
      "% of Topics rated 3 on Polarization = 30.0%\n",
      "Annotator 1 - Tweets\n",
      "% of Topics rated 1 on Polarization = 48.0%\n",
      "% of Topics rated 2 on Polarization = 0.0%\n",
      "% of Topics rated 3 on Polarization = 52.0%\n",
      "Annotator 2 - Tweets\n",
      "% of Topics rated 1 on Polarization = 52.0%\n",
      "% of Topics rated 2 on Polarization = 10.0%\n",
      "% of Topics rated 3 on Polarization = 16.0%\n"
     ]
    }
   ],
   "source": [
    "print('Annotator 1 - Speeches')\n",
    "get_stats_col(annotator1_pre_tbip_speeches, 'Polarization')\n",
    "print('Annotator 2 - Speeches')\n",
    "get_stats_col(annotator2_pre_tbip_speeches, 'Polarization')\n",
    "print('Annotator 1 - Tweets')\n",
    "get_stats_col(annotator1_pre_tbip_tweets, 'Polarization')\n",
    "print('Annotator 2 - Tweets')\n",
    "get_stats_col(annotator2_pre_tbip_tweets, 'Polarization')"
   ]
  },
  {
   "cell_type": "code",
   "execution_count": 49,
   "id": "f15b93e5-8e8e-413b-b7e7-b13be130ef88",
   "metadata": {
    "scrolled": true,
    "tags": []
   },
   "outputs": [
    {
     "name": "stdout",
     "output_type": "stream",
     "text": [
      "<class 'pandas.core.frame.DataFrame'>\n",
      "Int64Index: 50 entries, 1 to 1569\n",
      "Data columns (total 7 columns):\n",
      " #   Column          Non-Null Count  Dtype  \n",
      "---  ------          --------------  -----  \n",
      " 0   Topic           50 non-null     object \n",
      " 1   Unnamed: 1      0 non-null      float64\n",
      " 2   Coherence       50 non-null     float64\n",
      " 3   Polarization    50 non-null     float64\n",
      " 4   Topic Name      50 non-null     object \n",
      " 5   Description     48 non-null     object \n",
      " 6   Notes/Comments  10 non-null     object \n",
      "dtypes: float64(3), object(4)\n",
      "memory usage: 3.1+ KB\n",
      "None\n",
      "<class 'pandas.core.frame.DataFrame'>\n",
      "Int64Index: 50 entries, 1 to 1569\n",
      "Data columns (total 7 columns):\n",
      " #   Column          Non-Null Count  Dtype  \n",
      "---  ------          --------------  -----  \n",
      " 0   Topic           50 non-null     object \n",
      " 1   Unnamed: 1      0 non-null      float64\n",
      " 2   Coherence       50 non-null     float64\n",
      " 3   Polarization    50 non-null     float64\n",
      " 4   Topic Name      50 non-null     object \n",
      " 5   Description     50 non-null     object \n",
      " 6   Notes/Comments  50 non-null     object \n",
      "dtypes: float64(3), object(4)\n",
      "memory usage: 3.1+ KB\n",
      "None\n",
      "<class 'pandas.core.frame.DataFrame'>\n",
      "Int64Index: 50 entries, 1 to 1569\n",
      "Data columns (total 7 columns):\n",
      " #   Column          Non-Null Count  Dtype  \n",
      "---  ------          --------------  -----  \n",
      " 0   Topic           50 non-null     object \n",
      " 1   Unnamed: 1      0 non-null      float64\n",
      " 2   Coherence       50 non-null     float64\n",
      " 3   Polarization    50 non-null     float64\n",
      " 4   Topic Name      50 non-null     object \n",
      " 5   Description     43 non-null     object \n",
      " 6   Notes/Comments  16 non-null     object \n",
      "dtypes: float64(3), object(4)\n",
      "memory usage: 3.1+ KB\n",
      "None\n",
      "<class 'pandas.core.frame.DataFrame'>\n",
      "Int64Index: 50 entries, 1 to 1569\n",
      "Data columns (total 7 columns):\n",
      " #   Column          Non-Null Count  Dtype  \n",
      "---  ------          --------------  -----  \n",
      " 0   Topic           50 non-null     object \n",
      " 1   Unnamed: 1      0 non-null      float64\n",
      " 2   Coherence       50 non-null     float64\n",
      " 3   Polarization    50 non-null     float64\n",
      " 4   Topic Name      50 non-null     object \n",
      " 5   Description     38 non-null     object \n",
      " 6   Notes/Comments  22 non-null     object \n",
      "dtypes: float64(3), object(4)\n",
      "memory usage: 3.1+ KB\n",
      "None\n"
     ]
    }
   ],
   "source": [
    "annotator1_pre_tbip_speeches['Polarization'] = annotator1_pre_tbip_speeches['Polarization'].fillna(0.0)\n",
    "print(annotator1_pre_tbip_speeches.info())\n",
    "annotator1_pre_tbip_tweets['Polarization'] = annotator1_pre_tbip_tweets['Polarization'].fillna(0.0)\n",
    "print(annotator1_pre_tbip_tweets.info())\n",
    "annotator2_pre_tbip_speeches['Polarization'] = annotator2_pre_tbip_speeches['Polarization'].fillna(0.0)\n",
    "print(annotator2_pre_tbip_speeches.info())\n",
    "annotator2_pre_tbip_tweets['Polarization'] = annotator2_pre_tbip_tweets['Polarization'].fillna(0.0)\n",
    "print(annotator2_pre_tbip_tweets.info())"
   ]
  },
  {
   "cell_type": "code",
   "execution_count": 53,
   "id": "ff14ce87-b33e-483f-8a0d-e20c389e59fa",
   "metadata": {},
   "outputs": [
    {
     "name": "stdout",
     "output_type": "stream",
     "text": [
      "Speeches - Polarization\n"
     ]
    },
    {
     "data": {
      "text/plain": [
       "0.37027707808564225"
      ]
     },
     "execution_count": 53,
     "metadata": {},
     "output_type": "execute_result"
    }
   ],
   "source": [
    "print('Speeches - Polarization')\n",
    "cohen_kappa_score(list(annotator1_pre_tbip_speeches['Polarization']),\n",
    "                  list(annotator2_pre_tbip_speeches['Polarization']))"
   ]
  },
  {
   "cell_type": "code",
   "execution_count": 56,
   "id": "bc2d7fe0-b348-4d36-bbd2-3dec637d2a67",
   "metadata": {},
   "outputs": [
    {
     "name": "stdout",
     "output_type": "stream",
     "text": [
      "Tweets - Polarization\n"
     ]
    },
    {
     "data": {
      "text/plain": [
       "0.22062350119904073"
      ]
     },
     "execution_count": 56,
     "metadata": {},
     "output_type": "execute_result"
    }
   ],
   "source": [
    "print('Tweets - Polarization')\n",
    "cohen_kappa_score(list(annotator1_pre_tbip_tweets['Polarization']),\n",
    "                  list(annotator2_pre_tbip_tweets['Polarization']))"
   ]
  },
  {
   "cell_type": "code",
   "execution_count": 57,
   "id": "ee599dad-35a4-4fa1-ae5b-5043a7987259",
   "metadata": {},
   "outputs": [],
   "source": [
    "def get_topic_to_annotator_to_ratings(df1, df2):\n",
    "    l1_topics = list(df1['Topic'])\n",
    "    l2_topics = list(df2['Topic'])\n",
    "    assert l1_topics == l2_topics\n",
    "    \n",
    "    l1_c = list(df1['Coherence'])\n",
    "    l2_c = list(df2['Coherence'])\n",
    "    \n",
    "    l1_p = list(df1['Polarization'])\n",
    "    l2_p = list(df2['Polarization'])\n",
    "    \n",
    "    out = {}\n",
    "    for t, c1, c2, p1, p2 in zip(l1_topics, l1_c, l2_c, l1_p, l2_p):\n",
    "        out[t] = {'annotator1':{'Coherence':c1, 'Polarization':p1}, \n",
    "                  'annotator2':{'Coherence':c2, 'Polarization':p2}}\n",
    "    return out"
   ]
  },
  {
   "cell_type": "code",
   "execution_count": 58,
   "id": "75e1c849-7fbe-4a9e-8572-4c40e220c589",
   "metadata": {},
   "outputs": [],
   "source": [
    "speech_topic_to_annotator_to_ratings = get_topic_to_annotator_to_ratings(annotator1_pre_tbip_speeches,\n",
    "                                                                         annotator2_pre_tbip_speeches)\n",
    "\n",
    "tweet_topic_to_annotator_to_ratings = get_topic_to_annotator_to_ratings(annotator1_pre_tbip_tweets,\n",
    "                                                                         annotator2_pre_tbip_tweets)"
   ]
  },
  {
   "cell_type": "code",
   "execution_count": 67,
   "id": "b179819f-c86d-4b96-a4bf-7ede48578189",
   "metadata": {},
   "outputs": [],
   "source": [
    "def get_dataframe_from_annotated_xlsx_file_path(path):\n",
    "    df = pd.read_excel(path,\n",
    "                       sheet_name=None,\n",
    "                       engine='openpyxl')\n",
    "    df = df['Sheet1']\n",
    "    df = df[~pd.isnull(df['Issue'])]\n",
    "    return df"
   ]
  },
  {
   "cell_type": "code",
   "execution_count": 68,
   "id": "d01c456b-62c8-45c7-a2fc-64865c2fa847",
   "metadata": {},
   "outputs": [
    {
     "name": "stdout",
     "output_type": "stream",
     "text": [
      "<class 'pandas.core.frame.DataFrame'>\n",
      "Int64Index: 42 entries, 1 to 944\n",
      "Data columns (total 12 columns):\n",
      " #   Column                                Non-Null Count  Dtype  \n",
      "---  ------                                --------------  -----  \n",
      " 0   Unnamed: 0                            0 non-null      object \n",
      " 1   Unnamed: 1                            0 non-null      float64\n",
      " 2   Issue                                 42 non-null     object \n",
      " 3   Unnamed: 3                            0 non-null      object \n",
      " 4   Unnamed: 4                            0 non-null      float64\n",
      " 5   Unnamed: 5                            0 non-null      float64\n",
      " 6   Label Applicability for a)            42 non-null     object \n",
      " 7   Label Applicability for b)            42 non-null     object \n",
      " 8   Ideological Polarization              42 non-null     object \n",
      " 9   Ideological Position expressed in a)  32 non-null     object \n",
      " 10  Ideological Position expressed in b)  32 non-null     object \n",
      " 11  Notes/Comments                        2 non-null      object \n",
      "dtypes: float64(3), object(9)\n",
      "memory usage: 4.3+ KB\n"
     ]
    }
   ],
   "source": [
    "annotator1_post_tbip_speeches = get_dataframe_from_annotated_xlsx_file_path('venue_diff_polsci/post_tbip_annotation_results/annotation_file_speeches_fg.xlsx')\n",
    "annotator1_post_tbip_speeches.info()"
   ]
  },
  {
   "cell_type": "code",
   "execution_count": 69,
   "id": "d20852e8-6ee2-424c-ba56-31dd8e7a42d1",
   "metadata": {},
   "outputs": [
    {
     "name": "stdout",
     "output_type": "stream",
     "text": [
      "<class 'pandas.core.frame.DataFrame'>\n",
      "Int64Index: 42 entries, 1 to 944\n",
      "Data columns (total 12 columns):\n",
      " #   Column                                Non-Null Count  Dtype  \n",
      "---  ------                                --------------  -----  \n",
      " 0   Unnamed: 0                            0 non-null      object \n",
      " 1   Unnamed: 1                            0 non-null      float64\n",
      " 2   Issue                                 42 non-null     object \n",
      " 3   Unnamed: 3                            0 non-null      object \n",
      " 4   Unnamed: 4                            0 non-null      float64\n",
      " 5   Unnamed: 5                            0 non-null      float64\n",
      " 6   Label Applicability for a)            42 non-null     object \n",
      " 7   Label Applicability for b)            42 non-null     object \n",
      " 8   Ideological Polarization              42 non-null     object \n",
      " 9   Ideological Position expressed in a)  34 non-null     object \n",
      " 10  Ideological Position expressed in b)  34 non-null     object \n",
      " 11  Notes/Comments                        6 non-null      object \n",
      "dtypes: float64(3), object(9)\n",
      "memory usage: 4.3+ KB\n"
     ]
    }
   ],
   "source": [
    "annotator2_post_tbip_speeches = get_dataframe_from_annotated_xlsx_file_path('venue_diff_polsci/post_tbip_annotation_results/annotation_file_speeches_completed.xlsx')\n",
    "annotator2_post_tbip_speeches.info()"
   ]
  },
  {
   "cell_type": "code",
   "execution_count": 70,
   "id": "cb6b9bd3-08fa-4d3f-87a4-76e66aa168df",
   "metadata": {},
   "outputs": [
    {
     "name": "stdout",
     "output_type": "stream",
     "text": [
      "<class 'pandas.core.frame.DataFrame'>\n",
      "Int64Index: 40 entries, 1 to 898\n",
      "Data columns (total 12 columns):\n",
      " #   Column                                Non-Null Count  Dtype  \n",
      "---  ------                                --------------  -----  \n",
      " 0   Unnamed: 0                            0 non-null      object \n",
      " 1   Unnamed: 1                            0 non-null      float64\n",
      " 2   Issue                                 40 non-null     object \n",
      " 3   Unnamed: 3                            0 non-null      object \n",
      " 4   Unnamed: 4                            0 non-null      float64\n",
      " 5   Unnamed: 5                            0 non-null      float64\n",
      " 6   Label Applicability for a)            40 non-null     object \n",
      " 7   Label Applicability for b)            40 non-null     object \n",
      " 8   Ideological Polarization              40 non-null     object \n",
      " 9   Ideological Position expressed in a)  30 non-null     object \n",
      " 10  Ideological Position expressed in b)  30 non-null     object \n",
      " 11  Notes/Comments                        1 non-null      object \n",
      "dtypes: float64(3), object(9)\n",
      "memory usage: 4.1+ KB\n"
     ]
    }
   ],
   "source": [
    "annotator1_post_tbip_tweets = get_dataframe_from_annotated_xlsx_file_path('venue_diff_polsci/post_tbip_annotation_results/annotation_file_tweets_fg.xlsx')\n",
    "annotator1_post_tbip_tweets.info()"
   ]
  },
  {
   "cell_type": "code",
   "execution_count": 71,
   "id": "e5c86cdf-4373-40f9-b027-703e418bc7e7",
   "metadata": {},
   "outputs": [
    {
     "name": "stdout",
     "output_type": "stream",
     "text": [
      "<class 'pandas.core.frame.DataFrame'>\n",
      "Int64Index: 40 entries, 1 to 898\n",
      "Data columns (total 12 columns):\n",
      " #   Column                                Non-Null Count  Dtype  \n",
      "---  ------                                --------------  -----  \n",
      " 0   Unnamed: 0                            0 non-null      object \n",
      " 1   Unnamed: 1                            0 non-null      float64\n",
      " 2   Issue                                 40 non-null     object \n",
      " 3   Unnamed: 3                            0 non-null      object \n",
      " 4   Unnamed: 4                            0 non-null      float64\n",
      " 5   Unnamed: 5                            0 non-null      float64\n",
      " 6   Label Applicability for a)            40 non-null     object \n",
      " 7   Label Applicability for b)            40 non-null     object \n",
      " 8   Ideological Polarization              40 non-null     object \n",
      " 9   Ideological Position expressed in a)  33 non-null     object \n",
      " 10  Ideological Position expressed in b)  33 non-null     object \n",
      " 11  Notes/Comments                        5 non-null      object \n",
      "dtypes: float64(3), object(9)\n",
      "memory usage: 4.1+ KB\n"
     ]
    }
   ],
   "source": [
    "annotator2_post_tbip_tweets = get_dataframe_from_annotated_xlsx_file_path('venue_diff_polsci/post_tbip_annotation_results/annotation_file_tweets_completed.xlsx')\n",
    "annotator2_post_tbip_tweets.info()"
   ]
  },
  {
   "cell_type": "code",
   "execution_count": 74,
   "id": "a7727b56-d4d9-4a1f-ae33-5cf0d727daaf",
   "metadata": {},
   "outputs": [],
   "source": [
    "def get_label_app_stats(df, colname):\n",
    "    n = len(df)\n",
    "    l = list(df[colname])\n",
    "    is_about, might_about, not_about = 0, 0, 0\n",
    "    for x in l:\n",
    "        if 'IS about' in x:\n",
    "            is_about += 1\n",
    "        elif 'MIGHT' in x:\n",
    "            might_about += 1\n",
    "        elif 'IS NOT' in x:\n",
    "            not_about += 1\n",
    "    print('% of Topics that are about the issue wrt ' + colname + ' = ' + str(round(100*(is_about/n), 2)) + '%')\n",
    "    print('% of Topics that might be about the issue wrt ' + colname + ' = ' + str(round(100*(might_about/n), 2)) + '%')\n",
    "    print('% of Topics that are NOT about the issue wrt ' + colname + ' = ' + str(round(100*(not_about/n), 2)) + '%')"
   ]
  },
  {
   "cell_type": "code",
   "execution_count": 75,
   "id": "defb51cc-fdf3-428a-9f95-c852f57a3711",
   "metadata": {},
   "outputs": [
    {
     "name": "stdout",
     "output_type": "stream",
     "text": [
      "% of Topics that are about the issue wrt Label Applicability for a) = 90.48%\n",
      "% of Topics that might be about the issue wrt Label Applicability for a) = 7.14%\n",
      "% of Topics that are NOT about the issue wrt Label Applicability for a) = 2.38%\n"
     ]
    }
   ],
   "source": [
    "get_label_app_stats(annotator1_post_tbip_speeches, \n",
    "                    'Label Applicability for a)')"
   ]
  },
  {
   "cell_type": "code",
   "execution_count": 76,
   "id": "a7ce1778-5566-4856-be7b-e67da698ec53",
   "metadata": {},
   "outputs": [
    {
     "name": "stdout",
     "output_type": "stream",
     "text": [
      "% of Topics that are about the issue wrt Label Applicability for a) = 83.33%\n",
      "% of Topics that might be about the issue wrt Label Applicability for a) = 14.29%\n",
      "% of Topics that are NOT about the issue wrt Label Applicability for a) = 2.38%\n"
     ]
    }
   ],
   "source": [
    "get_label_app_stats(annotator2_post_tbip_speeches, \n",
    "                    'Label Applicability for a)')"
   ]
  },
  {
   "cell_type": "code",
   "execution_count": 77,
   "id": "5dd3ce5d-dbcf-4be4-98dd-f36741656a9f",
   "metadata": {},
   "outputs": [
    {
     "name": "stdout",
     "output_type": "stream",
     "text": [
      "Speeches - Label applicability for a)\n"
     ]
    },
    {
     "data": {
      "text/plain": [
       "0.8057803468208092"
      ]
     },
     "execution_count": 77,
     "metadata": {},
     "output_type": "execute_result"
    }
   ],
   "source": [
    "print('Speeches - Label applicability for a)')\n",
    "cohen_kappa_score(list(annotator1_post_tbip_speeches['Label Applicability for a)']),\n",
    "                  list(annotator2_post_tbip_speeches['Label Applicability for a)']))"
   ]
  },
  {
   "cell_type": "code",
   "execution_count": 79,
   "id": "bc039206-e37d-4c94-a9b4-9c1bda157df2",
   "metadata": {},
   "outputs": [
    {
     "name": "stdout",
     "output_type": "stream",
     "text": [
      "% of Topics that are about the issue wrt Label Applicability for a) = 92.5%\n",
      "% of Topics that might be about the issue wrt Label Applicability for a) = 7.5%\n",
      "% of Topics that are NOT about the issue wrt Label Applicability for a) = 0.0%\n"
     ]
    }
   ],
   "source": [
    "get_label_app_stats(annotator1_post_tbip_tweets, \n",
    "                    'Label Applicability for a)')"
   ]
  },
  {
   "cell_type": "code",
   "execution_count": 80,
   "id": "b232c817-cbcb-40ac-a933-25789250eee4",
   "metadata": {},
   "outputs": [
    {
     "name": "stdout",
     "output_type": "stream",
     "text": [
      "% of Topics that are about the issue wrt Label Applicability for a) = 57.5%\n",
      "% of Topics that might be about the issue wrt Label Applicability for a) = 40.0%\n",
      "% of Topics that are NOT about the issue wrt Label Applicability for a) = 2.5%\n"
     ]
    }
   ],
   "source": [
    "get_label_app_stats(annotator2_post_tbip_tweets, \n",
    "                    'Label Applicability for a)')"
   ]
  },
  {
   "cell_type": "code",
   "execution_count": 81,
   "id": "b537e653-6ef6-4d5e-a0e3-bfa95ad0ecbf",
   "metadata": {},
   "outputs": [
    {
     "name": "stdout",
     "output_type": "stream",
     "text": [
      "Tweets - Label applicability for a)\n"
     ]
    },
    {
     "data": {
      "text/plain": [
       "0.5939086294416244"
      ]
     },
     "execution_count": 81,
     "metadata": {},
     "output_type": "execute_result"
    }
   ],
   "source": [
    "print('Tweets - Label applicability for a)')\n",
    "cohen_kappa_score(list(annotator1_post_tbip_tweets['Label Applicability for a)']),\n",
    "                  list(annotator2_post_tbip_tweets['Label Applicability for a)']))"
   ]
  },
  {
   "cell_type": "code",
   "execution_count": 82,
   "id": "a54c3de9-aa59-4fa9-9807-292b00affabe",
   "metadata": {},
   "outputs": [
    {
     "name": "stdout",
     "output_type": "stream",
     "text": [
      "% of Topics that are about the issue wrt Label Applicability for b) = 90.48%\n",
      "% of Topics that might be about the issue wrt Label Applicability for b) = 9.52%\n",
      "% of Topics that are NOT about the issue wrt Label Applicability for b) = 0.0%\n"
     ]
    }
   ],
   "source": [
    "get_label_app_stats(annotator1_post_tbip_speeches, \n",
    "                    'Label Applicability for b)')"
   ]
  },
  {
   "cell_type": "code",
   "execution_count": 83,
   "id": "96a0370e-61fe-47e6-b8d4-e0a75b1b4c68",
   "metadata": {},
   "outputs": [
    {
     "name": "stdout",
     "output_type": "stream",
     "text": [
      "% of Topics that are about the issue wrt Label Applicability for b) = 80.95%\n",
      "% of Topics that might be about the issue wrt Label Applicability for b) = 14.29%\n",
      "% of Topics that are NOT about the issue wrt Label Applicability for b) = 4.76%\n"
     ]
    }
   ],
   "source": [
    "get_label_app_stats(annotator2_post_tbip_speeches, \n",
    "                    'Label Applicability for b)')"
   ]
  },
  {
   "cell_type": "code",
   "execution_count": 84,
   "id": "4a2cc769-d022-4370-98cb-ce11e6c0548b",
   "metadata": {},
   "outputs": [
    {
     "name": "stdout",
     "output_type": "stream",
     "text": [
      "Speeches - Label applicability for b)\n"
     ]
    },
    {
     "data": {
      "text/plain": [
       "0.8299595141700404"
      ]
     },
     "execution_count": 84,
     "metadata": {},
     "output_type": "execute_result"
    }
   ],
   "source": [
    "print('Speeches - Label applicability for b)')\n",
    "cohen_kappa_score(list(annotator1_post_tbip_speeches['Label Applicability for b)']),\n",
    "                  list(annotator2_post_tbip_speeches['Label Applicability for b)']))"
   ]
  },
  {
   "cell_type": "code",
   "execution_count": 85,
   "id": "3b00f9a2-5471-4f63-a773-f9a8d7a36671",
   "metadata": {},
   "outputs": [
    {
     "name": "stdout",
     "output_type": "stream",
     "text": [
      "% of Topics that are about the issue wrt Label Applicability for b) = 75.0%\n",
      "% of Topics that might be about the issue wrt Label Applicability for b) = 22.5%\n",
      "% of Topics that are NOT about the issue wrt Label Applicability for b) = 2.5%\n"
     ]
    }
   ],
   "source": [
    "get_label_app_stats(annotator1_post_tbip_tweets, \n",
    "                    'Label Applicability for b)')"
   ]
  },
  {
   "cell_type": "code",
   "execution_count": 86,
   "id": "45deb821-462f-42b6-9382-8bd732cdb88e",
   "metadata": {},
   "outputs": [
    {
     "name": "stdout",
     "output_type": "stream",
     "text": [
      "% of Topics that are about the issue wrt Label Applicability for b) = 65.0%\n",
      "% of Topics that might be about the issue wrt Label Applicability for b) = 30.0%\n",
      "% of Topics that are NOT about the issue wrt Label Applicability for b) = 5.0%\n"
     ]
    }
   ],
   "source": [
    "get_label_app_stats(annotator2_post_tbip_tweets, \n",
    "                    'Label Applicability for b)')"
   ]
  },
  {
   "cell_type": "code",
   "execution_count": 88,
   "id": "559a6691-f284-4a23-9719-91751e637a3b",
   "metadata": {},
   "outputs": [
    {
     "name": "stdout",
     "output_type": "stream",
     "text": [
      "Tweets - Label applicability for b)\n"
     ]
    },
    {
     "data": {
      "text/plain": [
       "0.6190476190476191"
      ]
     },
     "execution_count": 88,
     "metadata": {},
     "output_type": "execute_result"
    }
   ],
   "source": [
    "print('Tweets - Label applicability for b)')\n",
    "cohen_kappa_score(list(annotator1_post_tbip_tweets['Label Applicability for b)']),\n",
    "                  list(annotator2_post_tbip_tweets['Label Applicability for b)']))"
   ]
  },
  {
   "cell_type": "code",
   "execution_count": 90,
   "id": "d2fb0359-4d8e-4ea8-b919-918818ff1f8b",
   "metadata": {},
   "outputs": [],
   "source": [
    "def get_post_tbip_id_pol_stats(df):\n",
    "    l_a = list(df['Label Applicability for a)'])\n",
    "    l_b = list(df['Label Applicability for b)'])\n",
    "    \n",
    "    l_i = list(df['Ideological Polarization'])\n",
    "    \n",
    "    n = 0.0\n",
    "    do_not, somewhat, do, unsure = 0, 0, 0, 0\n",
    "    for a, b, i in zip(l_a, l_b, l_i):\n",
    "        if 'IS NOT' in a or 'IS NOT' in b: #consider only cases where label at least might be applicable for both a) and b)\n",
    "            continue\n",
    "        n += 1.0\n",
    "        if 'DO NOT' in i:\n",
    "            do_not += 1\n",
    "        elif 'SOMEWHAT' in i:\n",
    "            somewhat += 1\n",
    "        elif 'Unsure' in i:\n",
    "            unsure += 1\n",
    "        else:\n",
    "            do += 1\n",
    "    print('% of Topics for which a and b do represent polarized perspectives = ' + str(round(100*(do/n), 2)) + '%')\n",
    "    print('% of Topics for which a and b represent SOMEWHAT polarized perspectives = ' + str(round(100*(somewhat/n), 2)) + '%')\n",
    "    print('% of Topics for which a and b DO NOT represent polarized perspectives = ' + str(round(100*(do_not/n), 2)) + '%')\n",
    "    print('% of Topics UNSURE = ' + str(round(100*(unsure/n), 2)) + '%')"
   ]
  },
  {
   "cell_type": "code",
   "execution_count": 91,
   "id": "345fe61f-e95c-49c7-ab4e-223fd3fd64fb",
   "metadata": {},
   "outputs": [
    {
     "name": "stdout",
     "output_type": "stream",
     "text": [
      "% of Topics for which a and b do represent polarized perspectives = 31.71%\n",
      "% of Topics for which a and b represent SOMEWHAT polarized perspectives = 41.46%\n",
      "% of Topics for which a and b DO NOT represent polarized perspectives = 24.39%\n",
      "% of Topics UNSURE = 2.44%\n"
     ]
    }
   ],
   "source": [
    "get_post_tbip_id_pol_stats(annotator1_post_tbip_speeches)"
   ]
  },
  {
   "cell_type": "code",
   "execution_count": 92,
   "id": "9903a476-19d0-424e-852e-740af946a79b",
   "metadata": {},
   "outputs": [
    {
     "name": "stdout",
     "output_type": "stream",
     "text": [
      "% of Topics for which a and b do represent polarized perspectives = 35.9%\n",
      "% of Topics for which a and b represent SOMEWHAT polarized perspectives = 30.77%\n",
      "% of Topics for which a and b DO NOT represent polarized perspectives = 17.95%\n",
      "% of Topics UNSURE = 15.38%\n"
     ]
    }
   ],
   "source": [
    "get_post_tbip_id_pol_stats(annotator2_post_tbip_speeches)"
   ]
  },
  {
   "cell_type": "code",
   "execution_count": 93,
   "id": "c57e7fd2-b741-412b-b1c9-6b0bdde75423",
   "metadata": {},
   "outputs": [
    {
     "name": "stdout",
     "output_type": "stream",
     "text": [
      "Speeches - Ideological Polarization\n"
     ]
    },
    {
     "data": {
      "text/plain": [
       "0.33009708737864063"
      ]
     },
     "execution_count": 93,
     "metadata": {},
     "output_type": "execute_result"
    }
   ],
   "source": [
    "print('Speeches - Ideological Polarization')\n",
    "cohen_kappa_score(list(annotator1_post_tbip_speeches['Ideological Polarization']),\n",
    "                  list(annotator2_post_tbip_speeches['Ideological Polarization']))"
   ]
  },
  {
   "cell_type": "code",
   "execution_count": 94,
   "id": "f4db8640-3429-4ba7-b58b-a91e242e1080",
   "metadata": {},
   "outputs": [
    {
     "name": "stdout",
     "output_type": "stream",
     "text": [
      "% of Topics for which a and b do represent polarized perspectives = 28.21%\n",
      "% of Topics for which a and b represent SOMEWHAT polarized perspectives = 28.21%\n",
      "% of Topics for which a and b DO NOT represent polarized perspectives = 43.59%\n",
      "% of Topics UNSURE = 0.0%\n"
     ]
    }
   ],
   "source": [
    "get_post_tbip_id_pol_stats(annotator1_post_tbip_tweets)"
   ]
  },
  {
   "cell_type": "code",
   "execution_count": 95,
   "id": "294345dd-445b-47f1-bae6-30a25fd6e58e",
   "metadata": {},
   "outputs": [
    {
     "name": "stdout",
     "output_type": "stream",
     "text": [
      "% of Topics for which a and b do represent polarized perspectives = 42.11%\n",
      "% of Topics for which a and b represent SOMEWHAT polarized perspectives = 31.58%\n",
      "% of Topics for which a and b DO NOT represent polarized perspectives = 15.79%\n",
      "% of Topics UNSURE = 10.53%\n"
     ]
    }
   ],
   "source": [
    "get_post_tbip_id_pol_stats(annotator2_post_tbip_tweets)"
   ]
  },
  {
   "cell_type": "code",
   "execution_count": 96,
   "id": "de66b801-d3f6-46ef-b4e4-72c734fd561d",
   "metadata": {},
   "outputs": [
    {
     "name": "stdout",
     "output_type": "stream",
     "text": [
      "Tweets - Ideological Polarization\n"
     ]
    },
    {
     "data": {
      "text/plain": [
       "0.43494423791821557"
      ]
     },
     "execution_count": 96,
     "metadata": {},
     "output_type": "execute_result"
    }
   ],
   "source": [
    "print('Tweets - Ideological Polarization')\n",
    "cohen_kappa_score(list(annotator1_post_tbip_tweets['Ideological Polarization']),\n",
    "                  list(annotator2_post_tbip_tweets['Ideological Polarization']))"
   ]
  },
  {
   "cell_type": "markdown",
   "id": "4501690f-2837-4117-bfe6-3c9b488f0883",
   "metadata": {},
   "source": [
    "for the topics pre-tbip expected to have political polarization by either annotator, how many were deemed ideologically polarized post-tbip by either annotator (%)?"
   ]
  },
  {
   "cell_type": "code",
   "execution_count": 103,
   "id": "9516225d-7aa9-4626-813f-42b6ec579740",
   "metadata": {},
   "outputs": [],
   "source": [
    "def get_topic_nums_expected_to_be_polarized_by_either_annotator(df1, df2):\n",
    "    out = []\n",
    "    df1 = df1[~pd.isnull(df1['Polarization'])]\n",
    "    df2 = df2[~pd.isnull(df2['Polarization'])]\n",
    "    topics1, p1 = list(df1['Topic']), list(df1['Polarization'])\n",
    "    topics2, p2 = list(df2['Topic']), list(df2['Polarization'])\n",
    "    for t, p in zip(topics1, p1):\n",
    "        if p==2.0 or p==3.0:\n",
    "            out.append(t.split()[1])\n",
    "        else:\n",
    "            if t in topics2:\n",
    "                i2 = topics2.index(t)\n",
    "                if p2[i2]==2.0 or p2[i2]==3.0:\n",
    "                    out.append(t.split()[1])\n",
    "    return out"
   ]
  },
  {
   "cell_type": "code",
   "execution_count": 104,
   "id": "a995433d-c626-443b-a2e7-3c64dd8999c8",
   "metadata": {},
   "outputs": [
    {
     "name": "stdout",
     "output_type": "stream",
     "text": [
      "28\n"
     ]
    }
   ],
   "source": [
    "speeches_topic_nums_expected_to_be_polarized_by_either_annotator = get_topic_nums_expected_to_be_polarized_by_either_annotator(annotator1_pre_tbip_speeches,\n",
    "                                                                                                                               annotator2_pre_tbip_speeches)\n",
    "print(len(speeches_topic_nums_expected_to_be_polarized_by_either_annotator))"
   ]
  },
  {
   "cell_type": "code",
   "execution_count": 105,
   "id": "8a94cd07-3538-4d65-9eb2-2179206d0af4",
   "metadata": {},
   "outputs": [
    {
     "name": "stdout",
     "output_type": "stream",
     "text": [
      "28\n"
     ]
    }
   ],
   "source": [
    "tweets_topic_nums_expected_to_be_polarized_by_either_annotator = get_topic_nums_expected_to_be_polarized_by_either_annotator(annotator1_pre_tbip_tweets,\n",
    "                                                                                                                             annotator2_pre_tbip_tweets)\n",
    "print(len(tweets_topic_nums_expected_to_be_polarized_by_either_annotator))"
   ]
  },
  {
   "cell_type": "code",
   "execution_count": 109,
   "id": "5927540b-d210-4dc1-9e7e-450c6a502263",
   "metadata": {},
   "outputs": [],
   "source": [
    "def get_post_tbip_polarized_topic_nums_by_either_annotator(df1, df2):\n",
    "    \n",
    "    out = set()\n",
    "    \n",
    "    l_topics = list(df1['Issue'])\n",
    "    l_a = list(df1['Label Applicability for a)'])\n",
    "    l_b = list(df1['Label Applicability for b)'])\n",
    "    \n",
    "    l_i = list(df1['Ideological Polarization'])\n",
    "    \n",
    "    for tn, a, b, i in zip(l_topics, l_a, l_b, l_i):\n",
    "        if 'IS NOT' in a or 'IS NOT' in b: #consider only cases where label at least might be applicable for both a) and b)\n",
    "            continue\n",
    "        if 'DO NOT' in i:\n",
    "            continue\n",
    "        elif 'SOMEWHAT' in i:\n",
    "            out.add(tn.split()[1])\n",
    "        elif 'Unsure' in i:\n",
    "            continue\n",
    "        else:\n",
    "            out.add(tn.split()[1])\n",
    "    \n",
    "    l_topics = list(df2['Issue'])\n",
    "    l_a = list(df2['Label Applicability for a)'])\n",
    "    l_b = list(df2['Label Applicability for b)'])\n",
    "    \n",
    "    l_i = list(df2['Ideological Polarization'])\n",
    "    \n",
    "    for tn, a, b, i in zip(l_topics, l_a, l_b, l_i):\n",
    "        if 'IS NOT' in a or 'IS NOT' in b: #consider only cases where label at least might be applicable for both a) and b)\n",
    "            continue\n",
    "        if 'DO NOT' in i:\n",
    "            continue\n",
    "        elif 'SOMEWHAT' in i:\n",
    "            out.add(tn.split()[1])\n",
    "        elif 'Unsure' in i:\n",
    "            continue\n",
    "        else:\n",
    "            out.add(tn.split()[1])\n",
    "            \n",
    "    return list(out)"
   ]
  },
  {
   "cell_type": "code",
   "execution_count": 111,
   "id": "67addd58-5f20-4739-b394-e2161255449f",
   "metadata": {},
   "outputs": [
    {
     "name": "stdout",
     "output_type": "stream",
     "text": [
      "34\n"
     ]
    }
   ],
   "source": [
    "speeches_topic_nums_polarized_per_either_annotator_post_tbip = get_post_tbip_polarized_topic_nums_by_either_annotator(annotator1_post_tbip_speeches,\n",
    "                                                                                                                      annotator2_post_tbip_speeches)\n",
    "print(len(speeches_topic_nums_polarized_per_either_annotator_post_tbip))"
   ]
  },
  {
   "cell_type": "code",
   "execution_count": 112,
   "id": "361de9ab-34bc-459d-94f9-6bb950cb6705",
   "metadata": {},
   "outputs": [
    {
     "name": "stdout",
     "output_type": "stream",
     "text": [
      "30\n"
     ]
    }
   ],
   "source": [
    "tweets_topic_nums_polarized_per_either_annotator_post_tbip = get_post_tbip_polarized_topic_nums_by_either_annotator(annotator1_post_tbip_tweets,\n",
    "                                                                                                                    annotator2_post_tbip_tweets)\n",
    "print(len(tweets_topic_nums_polarized_per_either_annotator_post_tbip))"
   ]
  },
  {
   "cell_type": "code",
   "execution_count": 158,
   "id": "adaf6ada-d381-475f-afc4-b94a2b310bf9",
   "metadata": {},
   "outputs": [],
   "source": [
    "issues_rated_post_tbip_for_speeches = list(annotator1_post_tbip_speeches['Issue'])\n",
    "issues_rated_post_tbip_for_speeches = list(map(lambda x:x.split()[1], issues_rated_post_tbip_for_speeches))\n",
    "issues_rated_post_tbip_for_tweets = list(annotator1_post_tbip_tweets['Issue'])\n",
    "issues_rated_post_tbip_for_tweets = list(map(lambda x:x.split()[1], issues_rated_post_tbip_for_tweets))"
   ]
  },
  {
   "cell_type": "code",
   "execution_count": 159,
   "id": "eb9b4881-fcbd-4863-9968-1355d39eb8da",
   "metadata": {},
   "outputs": [
    {
     "name": "stdout",
     "output_type": "stream",
     "text": [
      "For Floor Speeches - \n",
      "81.82% of pre-tbip expected to have political polarization by either annotator were deemed ideologically polarized post-tbip by either annotator\n"
     ]
    }
   ],
   "source": [
    "print('For Floor Speeches - ')\n",
    "speeches_topic_nums_expected_to_be_polarized_by_either_annotator = list(set(speeches_topic_nums_expected_to_be_polarized_by_either_annotator).intersection(list(issues_rated_post_tbip_for_speeches)))\n",
    "n = len(speeches_topic_nums_expected_to_be_polarized_by_either_annotator)\n",
    "c = 0.0\n",
    "for tn in speeches_topic_nums_expected_to_be_polarized_by_either_annotator:\n",
    "    if tn in speeches_topic_nums_polarized_per_either_annotator_post_tbip:\n",
    "        c += 1.0\n",
    "print(str(round(100*(c/n), 2)) + '% of pre-tbip expected to have political polarization by either annotator were deemed ideologically polarized post-tbip by either annotator')"
   ]
  },
  {
   "cell_type": "code",
   "execution_count": 160,
   "id": "bc353b25-45fc-48bf-8ec9-6b832887cadc",
   "metadata": {},
   "outputs": [
    {
     "name": "stdout",
     "output_type": "stream",
     "text": [
      "For Twitter - \n",
      "72.73% of pre-tbip expected to have political polarization by either annotator were deemed ideologically polarized post-tbip by either annotator\n"
     ]
    }
   ],
   "source": [
    "print('For Twitter - ')\n",
    "tweets_topic_nums_expected_to_be_polarized_by_either_annotator = list(set(tweets_topic_nums_expected_to_be_polarized_by_either_annotator).intersection(list(issues_rated_post_tbip_for_tweets)))\n",
    "n = len(tweets_topic_nums_expected_to_be_polarized_by_either_annotator)\n",
    "c = 0.0\n",
    "for tn in tweets_topic_nums_expected_to_be_polarized_by_either_annotator:\n",
    "    if tn in tweets_topic_nums_polarized_per_either_annotator_post_tbip:\n",
    "        c += 1.0\n",
    "print(str(round(100*(c/n), 2)) + '% of pre-tbip expected to have political polarization by either annotator were deemed ideologically polarized post-tbip by either annotator')"
   ]
  },
  {
   "cell_type": "code",
   "execution_count": null,
   "id": "4a8ec98c-8ec9-4a26-a678-311aa59dbf6d",
   "metadata": {},
   "outputs": [],
   "source": []
  },
  {
   "cell_type": "code",
   "execution_count": 115,
   "id": "f6c1eb59-92d4-4446-ba63-5ad2f08b8d6e",
   "metadata": {},
   "outputs": [],
   "source": [
    "topic_ind_to_a_b_info_speech = pickle.load(open('venue_diff_polsci/floor_speeches/topic_ind_to_a_b_info_post_tbip.pkl', \n",
    "                                                'rb'))\n",
    "            "
   ]
  },
  {
   "cell_type": "code",
   "execution_count": 116,
   "id": "62d30ea6-802d-48f5-a7b0-5a17be1dd6fa",
   "metadata": {},
   "outputs": [],
   "source": [
    "topic_ind_to_a_b_info_tweet = pickle.load(open('venue_diff_polsci/twitter/topic_ind_to_a_b_info_post_tbip.pkl', \n",
    "                                                'rb'))\n",
    "            "
   ]
  },
  {
   "cell_type": "code",
   "execution_count": 118,
   "id": "9301031c-da9b-446e-87d2-b248f8c8de8a",
   "metadata": {},
   "outputs": [],
   "source": [
    "def get_post_tbip_topic_ind_to_id_rating(df):\n",
    "    df = df[~pd.isnull(df['Ideological Position expressed in a)'])]\n",
    "    issues, id_a, id_b = list(df['Issue']), list(df['Ideological Position expressed in a)']), list(df['Ideological Position expressed in b)'])\n",
    "    out = {}\n",
    "    for t, rating_a, rating_b in zip(issues, id_a, id_b):\n",
    "        topic_ind = int(t.split()[1]) - 1\n",
    "        out[topic_ind] = {'a': rating_a, \n",
    "                          'b': rating_b}\n",
    "        \n",
    "    return out"
   ]
  },
  {
   "cell_type": "code",
   "execution_count": 120,
   "id": "cf23a3e5-3850-4bf9-a78b-82df560c2c8b",
   "metadata": {},
   "outputs": [
    {
     "name": "stdout",
     "output_type": "stream",
     "text": [
      "32\n"
     ]
    }
   ],
   "source": [
    "post_tbip_topic_ind_to_a_b_rating_speech_ann1 = get_post_tbip_topic_ind_to_id_rating(annotator1_post_tbip_speeches)\n",
    "print(len(post_tbip_topic_ind_to_a_b_rating_speech_ann1))"
   ]
  },
  {
   "cell_type": "code",
   "execution_count": 121,
   "id": "16584790-7dbc-4920-8bb5-2fb40ff5850e",
   "metadata": {},
   "outputs": [
    {
     "name": "stdout",
     "output_type": "stream",
     "text": [
      "34\n"
     ]
    }
   ],
   "source": [
    "post_tbip_topic_ind_to_a_b_rating_speech_ann2 = get_post_tbip_topic_ind_to_id_rating(annotator2_post_tbip_speeches)\n",
    "print(len(post_tbip_topic_ind_to_a_b_rating_speech_ann2))"
   ]
  },
  {
   "cell_type": "code",
   "execution_count": 122,
   "id": "b036346c-123e-4d99-9495-50dffe815967",
   "metadata": {},
   "outputs": [
    {
     "name": "stdout",
     "output_type": "stream",
     "text": [
      "30\n"
     ]
    }
   ],
   "source": [
    "post_tbip_topic_ind_to_a_b_rating_tweet_ann1 = get_post_tbip_topic_ind_to_id_rating(annotator1_post_tbip_tweets)\n",
    "print(len(post_tbip_topic_ind_to_a_b_rating_tweet_ann1))"
   ]
  },
  {
   "cell_type": "code",
   "execution_count": 123,
   "id": "dd7d9689-b9c1-4b62-83f5-67bb46714f46",
   "metadata": {},
   "outputs": [
    {
     "name": "stdout",
     "output_type": "stream",
     "text": [
      "33\n"
     ]
    }
   ],
   "source": [
    "post_tbip_topic_ind_to_a_b_rating_tweet_ann2 = get_post_tbip_topic_ind_to_id_rating(annotator2_post_tbip_tweets)\n",
    "print(len(post_tbip_topic_ind_to_a_b_rating_tweet_ann2))"
   ]
  },
  {
   "cell_type": "code",
   "execution_count": 142,
   "id": "0c25b084-88fe-441f-b268-967952ff1922",
   "metadata": {},
   "outputs": [
    {
     "name": "stdout",
     "output_type": "stream",
     "text": [
      "Annotator 1, Speeches\n",
      "\n",
      "Liberal per TBIP - \n",
      "{'Conservative': 0, 'Liberal': 29, 'Unsure': 3}\n",
      "\n",
      "Conservative per TBIP - \n",
      "{'Conservative': 25, 'Liberal': 0, 'Unsure': 7}\n"
     ]
    }
   ],
   "source": [
    "liberal_tbip_speeches_breakdown1 = {'Conservative': 0,\n",
    "                                    'Liberal': 0,\n",
    "                                    'Unsure': 0}\n",
    "conservative_tbip_speeches_breakdown1 = {'Conservative': 0,\n",
    "                                         'Liberal': 0,\n",
    "                                         'Unsure': 0}\n",
    "#c = 0\n",
    "on_issue = 0\n",
    "for ti in topic_ind_to_a_b_info_speech:\n",
    "    if on_issue in post_tbip_topic_ind_to_a_b_rating_speech_ann1:\n",
    "        #c += 1\n",
    "        if topic_ind_to_a_b_info_speech[ti]['a'] == -1:\n",
    "            liberal_tbip_speeches_breakdown1[post_tbip_topic_ind_to_a_b_rating_speech_ann1[on_issue]['a']] += 1\n",
    "            conservative_tbip_speeches_breakdown1[post_tbip_topic_ind_to_a_b_rating_speech_ann1[on_issue]['b']] += 1\n",
    "        else:\n",
    "            liberal_tbip_speeches_breakdown1[post_tbip_topic_ind_to_a_b_rating_speech_ann1[on_issue]['b']] += 1\n",
    "            conservative_tbip_speeches_breakdown1[post_tbip_topic_ind_to_a_b_rating_speech_ann1[on_issue]['a']] += 1\n",
    "    on_issue += 1\n",
    "#print(c)\n",
    "print('Annotator 1, Speeches')\n",
    "print('')\n",
    "print('Liberal per TBIP - ')\n",
    "print(liberal_tbip_speeches_breakdown1)\n",
    "print('')\n",
    "print('Conservative per TBIP - ')\n",
    "print(conservative_tbip_speeches_breakdown1)"
   ]
  },
  {
   "cell_type": "code",
   "execution_count": 144,
   "id": "a13223f6-7b6f-4573-ae3a-64e034592475",
   "metadata": {},
   "outputs": [
    {
     "name": "stdout",
     "output_type": "stream",
     "text": [
      "Annotator 2, Speeches\n",
      "\n",
      "Liberal per TBIP - \n",
      "{'Conservative': 3, 'Liberal': 23, 'Unsure': 8}\n",
      "\n",
      "Conservative per TBIP - \n",
      "{'Conservative': 23, 'Liberal': 3, 'Unsure': 8}\n"
     ]
    }
   ],
   "source": [
    "liberal_tbip_speeches_breakdown2 = {'Conservative': 0,\n",
    "                                    'Liberal': 0,\n",
    "                                    'Unsure': 0}\n",
    "conservative_tbip_speeches_breakdown2 = {'Conservative': 0,\n",
    "                                         'Liberal': 0,\n",
    "                                         'Unsure': 0}\n",
    "#c = 0\n",
    "on_issue = 0\n",
    "for ti in topic_ind_to_a_b_info_speech:\n",
    "    if on_issue in post_tbip_topic_ind_to_a_b_rating_speech_ann2:\n",
    "        #c += 1\n",
    "        if topic_ind_to_a_b_info_speech[ti]['a'] == -1:\n",
    "            liberal_tbip_speeches_breakdown2[post_tbip_topic_ind_to_a_b_rating_speech_ann2[on_issue]['a']] += 1\n",
    "            conservative_tbip_speeches_breakdown2[post_tbip_topic_ind_to_a_b_rating_speech_ann2[on_issue]['b']] += 1\n",
    "        else:\n",
    "            liberal_tbip_speeches_breakdown2[post_tbip_topic_ind_to_a_b_rating_speech_ann2[on_issue]['b']] += 1\n",
    "            conservative_tbip_speeches_breakdown2[post_tbip_topic_ind_to_a_b_rating_speech_ann2[on_issue]['a']] += 1\n",
    "    on_issue += 1\n",
    "#print(c)\n",
    "print('Annotator 2, Speeches')\n",
    "print('')\n",
    "print('Liberal per TBIP - ')\n",
    "print(liberal_tbip_speeches_breakdown2)\n",
    "print('')\n",
    "print('Conservative per TBIP - ')\n",
    "print(conservative_tbip_speeches_breakdown2)"
   ]
  },
  {
   "cell_type": "code",
   "execution_count": 147,
   "id": "caa629b2-ba56-4ca6-b0dc-a62d473aadfd",
   "metadata": {},
   "outputs": [
    {
     "name": "stdout",
     "output_type": "stream",
     "text": [
      "Annotator 1, Tweets\n",
      "\n",
      "Liberal per TBIP - \n",
      "{'Conservative': 0, 'Liberal': 29, 'Unsure': 1}\n",
      "\n",
      "Conservative per TBIP - \n",
      "{'Conservative': 23, 'Liberal': 2, 'Unsure': 5}\n"
     ]
    }
   ],
   "source": [
    "liberal_tbip_tweets_breakdown1 = {'Conservative': 0,\n",
    "                                    'Liberal': 0,\n",
    "                                    'Unsure': 0}\n",
    "conservative_tbip_tweets_breakdown1 = {'Conservative': 0,\n",
    "                                         'Liberal': 0,\n",
    "                                         'Unsure': 0}\n",
    "#c = 0\n",
    "on_issue = 0\n",
    "for ti in topic_ind_to_a_b_info_tweet:\n",
    "    if on_issue in post_tbip_topic_ind_to_a_b_rating_tweet_ann1:\n",
    "        #c += 1\n",
    "        if topic_ind_to_a_b_info_tweet[ti]['a'] == 1:\n",
    "            liberal_tbip_tweets_breakdown1[post_tbip_topic_ind_to_a_b_rating_tweet_ann1[on_issue]['a']] += 1\n",
    "            conservative_tbip_tweets_breakdown1[post_tbip_topic_ind_to_a_b_rating_tweet_ann1[on_issue]['b']] += 1\n",
    "        else:\n",
    "            liberal_tbip_tweets_breakdown1[post_tbip_topic_ind_to_a_b_rating_tweet_ann1[on_issue]['b']] += 1\n",
    "            conservative_tbip_tweets_breakdown1[post_tbip_topic_ind_to_a_b_rating_tweet_ann1[on_issue]['a']] += 1\n",
    "    on_issue += 1\n",
    "#print(c)\n",
    "print('Annotator 1, Tweets')\n",
    "print('')\n",
    "print('Liberal per TBIP - ')\n",
    "print(liberal_tbip_tweets_breakdown1)\n",
    "print('')\n",
    "print('Conservative per TBIP - ')\n",
    "print(conservative_tbip_tweets_breakdown1)"
   ]
  },
  {
   "cell_type": "code",
   "execution_count": 148,
   "id": "35d26bd9-9617-4ddd-93de-67c5371b2d2c",
   "metadata": {},
   "outputs": [
    {
     "name": "stdout",
     "output_type": "stream",
     "text": [
      "Annotator 2, Tweets\n",
      "\n",
      "Liberal per TBIP - \n",
      "{'Conservative': 0, 'Liberal': 28, 'Unsure': 5}\n",
      "\n",
      "Conservative per TBIP - \n",
      "{'Conservative': 28, 'Liberal': 0, 'Unsure': 5}\n"
     ]
    }
   ],
   "source": [
    "liberal_tbip_tweets_breakdown2 = {'Conservative': 0,\n",
    "                                    'Liberal': 0,\n",
    "                                    'Unsure': 0}\n",
    "conservative_tbip_tweets_breakdown2 = {'Conservative': 0,\n",
    "                                         'Liberal': 0,\n",
    "                                         'Unsure': 0}\n",
    "#c = 0\n",
    "on_issue = 0\n",
    "for ti in topic_ind_to_a_b_info_tweet:\n",
    "    if on_issue in post_tbip_topic_ind_to_a_b_rating_tweet_ann2:\n",
    "        #c += 1\n",
    "        if topic_ind_to_a_b_info_tweet[ti]['a'] == 1:\n",
    "            liberal_tbip_tweets_breakdown2[post_tbip_topic_ind_to_a_b_rating_tweet_ann2[on_issue]['a']] += 1\n",
    "            conservative_tbip_tweets_breakdown2[post_tbip_topic_ind_to_a_b_rating_tweet_ann2[on_issue]['b']] += 1\n",
    "        else:\n",
    "            liberal_tbip_tweets_breakdown2[post_tbip_topic_ind_to_a_b_rating_tweet_ann2[on_issue]['b']] += 1\n",
    "            conservative_tbip_tweets_breakdown2[post_tbip_topic_ind_to_a_b_rating_tweet_ann2[on_issue]['a']] += 1\n",
    "    on_issue += 1\n",
    "#print(c)\n",
    "print('Annotator 2, Tweets')\n",
    "print('')\n",
    "print('Liberal per TBIP - ')\n",
    "print(liberal_tbip_tweets_breakdown2)\n",
    "print('')\n",
    "print('Conservative per TBIP - ')\n",
    "print(conservative_tbip_tweets_breakdown2)"
   ]
  },
  {
   "cell_type": "markdown",
   "id": "211f79d5-7528-41ef-84f7-0df0c2b50b88",
   "metadata": {},
   "source": [
    "for issues rated as liberal/conservative/unsure -- how many were accurate for both annotators?"
   ]
  },
  {
   "cell_type": "code",
   "execution_count": 149,
   "id": "c5b4310a-16b3-434e-8633-64b929c982f9",
   "metadata": {},
   "outputs": [
    {
     "data": {
      "text/plain": [
       "0.90625"
      ]
     },
     "execution_count": 149,
     "metadata": {},
     "output_type": "execute_result"
    }
   ],
   "source": [
    "29/32"
   ]
  },
  {
   "cell_type": "code",
   "execution_count": 150,
   "id": "e694e051-7563-4919-a391-85c623e3df62",
   "metadata": {},
   "outputs": [
    {
     "data": {
      "text/plain": [
       "0.78125"
      ]
     },
     "execution_count": 150,
     "metadata": {},
     "output_type": "execute_result"
    }
   ],
   "source": [
    "25/32"
   ]
  },
  {
   "cell_type": "code",
   "execution_count": 151,
   "id": "834375d3-3bd8-4f53-83b1-cc365f4b0019",
   "metadata": {},
   "outputs": [
    {
     "data": {
      "text/plain": [
       "0.6764705882352942"
      ]
     },
     "execution_count": 151,
     "metadata": {},
     "output_type": "execute_result"
    }
   ],
   "source": [
    "23/34"
   ]
  },
  {
   "cell_type": "code",
   "execution_count": 152,
   "id": "d2d56f05-d5cb-43e4-aed7-22866a8f4ec1",
   "metadata": {},
   "outputs": [
    {
     "data": {
      "text/plain": [
       "0.08823529411764706"
      ]
     },
     "execution_count": 152,
     "metadata": {},
     "output_type": "execute_result"
    }
   ],
   "source": [
    "3/34"
   ]
  },
  {
   "cell_type": "code",
   "execution_count": 153,
   "id": "e20b7512-a478-4915-abad-31eb9e1449cf",
   "metadata": {},
   "outputs": [
    {
     "data": {
      "text/plain": [
       "0.9666666666666667"
      ]
     },
     "execution_count": 153,
     "metadata": {},
     "output_type": "execute_result"
    }
   ],
   "source": [
    "29/30"
   ]
  },
  {
   "cell_type": "code",
   "execution_count": 154,
   "id": "f02ebc72-e254-4a13-8189-b2afd901939d",
   "metadata": {},
   "outputs": [
    {
     "data": {
      "text/plain": [
       "0.7666666666666667"
      ]
     },
     "execution_count": 154,
     "metadata": {},
     "output_type": "execute_result"
    }
   ],
   "source": [
    "23/30"
   ]
  },
  {
   "cell_type": "code",
   "execution_count": 155,
   "id": "393ae21e-8de4-4fec-9e91-d0229f5bc9e7",
   "metadata": {},
   "outputs": [
    {
     "data": {
      "text/plain": [
       "0.06666666666666667"
      ]
     },
     "execution_count": 155,
     "metadata": {},
     "output_type": "execute_result"
    }
   ],
   "source": [
    "2/30"
   ]
  },
  {
   "cell_type": "code",
   "execution_count": 156,
   "id": "9588aa49-ec71-4d42-8a6b-ff8590a7bf61",
   "metadata": {},
   "outputs": [
    {
     "data": {
      "text/plain": [
       "0.8484848484848485"
      ]
     },
     "execution_count": 156,
     "metadata": {},
     "output_type": "execute_result"
    }
   ],
   "source": [
    "28/33"
   ]
  },
  {
   "cell_type": "code",
   "execution_count": 128,
   "id": "977af4ce-14e6-452e-b3b9-0e6543efaeb5",
   "metadata": {},
   "outputs": [
    {
     "name": "stdout",
     "output_type": "stream",
     "text": [
      "Issues applicable = 27\n",
      "Speeches, perspective a\n",
      "0.5324675324675325\n",
      "\n",
      "Speeches, perspective b\n",
      "0.6917808219178082\n"
     ]
    }
   ],
   "source": [
    "speeches1 = annotator1_post_tbip_speeches[~pd.isnull(annotator1_post_tbip_speeches['Ideological Position expressed in a)'])]\n",
    "speeches2 = annotator2_post_tbip_speeches[~pd.isnull(annotator2_post_tbip_speeches['Ideological Position expressed in a)'])]\n",
    "issues_ap_to_both = list(set(speeches1['Issue']).intersection(speeches2['Issue']))\n",
    "print('Issues applicable = ' + str(len(issues_ap_to_both)))\n",
    "speeches1 = speeches1[speeches1['Issue'].isin(issues_ap_to_both)]\n",
    "speeches2 = speeches2[speeches2['Issue'].isin(issues_ap_to_both)]\n",
    "print('Speeches, perspective a')\n",
    "print(cohen_kappa_score(list(speeches1['Ideological Position expressed in a)']),\n",
    "                  list(speeches2['Ideological Position expressed in a)'])))\n",
    "print('')\n",
    "print('Speeches, perspective b')\n",
    "print(cohen_kappa_score(list(speeches1['Ideological Position expressed in b)']),\n",
    "                  list(speeches2['Ideological Position expressed in b)'])))"
   ]
  },
  {
   "cell_type": "code",
   "execution_count": 129,
   "id": "28d75b28-2941-464d-b32d-bfbbf66babe0",
   "metadata": {},
   "outputs": [
    {
     "name": "stdout",
     "output_type": "stream",
     "text": [
      "Issues applicable = 28\n",
      "Tweets, perspective a\n",
      "0.7370892018779343\n",
      "\n",
      "Tweets, perspective b\n",
      "0.6207674943566591\n"
     ]
    }
   ],
   "source": [
    "tweets1 = annotator1_post_tbip_tweets[~pd.isnull(annotator1_post_tbip_tweets['Ideological Position expressed in a)'])]\n",
    "tweets2 = annotator2_post_tbip_tweets[~pd.isnull(annotator2_post_tbip_tweets['Ideological Position expressed in a)'])]\n",
    "issues_ap_to_both = list(set(tweets1['Issue']).intersection(tweets2['Issue']))\n",
    "print('Issues applicable = ' + str(len(issues_ap_to_both)))\n",
    "tweets1 = tweets1[tweets1['Issue'].isin(issues_ap_to_both)]\n",
    "tweets2 = tweets2[tweets2['Issue'].isin(issues_ap_to_both)]\n",
    "print('Tweets, perspective a')\n",
    "print(cohen_kappa_score(list(tweets1['Ideological Position expressed in a)']),\n",
    "                  list(tweets2['Ideological Position expressed in a)'])))\n",
    "print('')\n",
    "print('Tweets, perspective b')\n",
    "print(cohen_kappa_score(list(tweets1['Ideological Position expressed in b)']),\n",
    "                  list(tweets2['Ideological Position expressed in b)'])))"
   ]
  },
  {
   "cell_type": "code",
   "execution_count": null,
   "id": "fe0b8a51-bc51-4482-b76a-8d5e64757ef6",
   "metadata": {},
   "outputs": [],
   "source": []
  }
 ],
 "metadata": {
  "kernelspec": {
   "display_name": "Python [conda env:tbip] *",
   "language": "python",
   "name": "conda-env-tbip-py"
  },
  "language_info": {
   "codemirror_mode": {
    "name": "ipython",
    "version": 3
   },
   "file_extension": ".py",
   "mimetype": "text/x-python",
   "name": "python",
   "nbconvert_exporter": "python",
   "pygments_lexer": "ipython3",
   "version": "3.6.13"
  }
 },
 "nbformat": 4,
 "nbformat_minor": 5
}
